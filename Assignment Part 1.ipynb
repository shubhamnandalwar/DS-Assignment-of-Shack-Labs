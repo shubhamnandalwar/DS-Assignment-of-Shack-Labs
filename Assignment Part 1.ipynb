{
 "cells": [
  {
   "cell_type": "markdown",
   "id": "e3f937f4",
   "metadata": {},
   "source": [
    "# Problem Statement"
   ]
  },
  {
   "cell_type": "markdown",
   "id": "fde57169",
   "metadata": {},
   "source": [
    "#### The goal is to understand the relationship between house features and how these variables affect the house price. Using more than one model, predict the price of the house using the given dataset. Please compare the accuracy of the models along with the drawbacks of each technique's assumptions before recommending the final prediction model."
   ]
  },
  {
   "cell_type": "markdown",
   "id": "45f277e4",
   "metadata": {},
   "source": [
    "## Required Libraries"
   ]
  },
  {
   "cell_type": "code",
   "execution_count": 1,
   "id": "8421919a",
   "metadata": {},
   "outputs": [],
   "source": [
    "import pandas as pd\n",
    "import numpy as np\n",
    "import seaborn as ns\n",
    "import warnings\n",
    "warnings.filterwarnings(\"ignore\")\n",
    "\n",
    "from sklearn.preprocessing import MinMaxScaler, StandardScaler\n",
    "\n",
    "from sklearn.model_selection import train_test_split\n",
    "\n",
    "from sklearn.linear_model import LinearRegression\n",
    "from sklearn.neighbors import KNeighborsRegressor\n",
    "from sklearn.tree import DecisionTreeRegressor\n",
    "from sklearn.ensemble import RandomForestRegressor,AdaBoostRegressor\n",
    "\n",
    "from sklearn.metrics import mean_squared_error,mean_absolute_error,r2_score"
   ]
  },
  {
   "cell_type": "markdown",
   "id": "474f9765",
   "metadata": {},
   "source": [
    "# Data Gathering"
   ]
  },
  {
   "cell_type": "code",
   "execution_count": 2,
   "id": "95a3895c",
   "metadata": {},
   "outputs": [
    {
     "data": {
      "text/html": [
       "<div>\n",
       "<style scoped>\n",
       "    .dataframe tbody tr th:only-of-type {\n",
       "        vertical-align: middle;\n",
       "    }\n",
       "\n",
       "    .dataframe tbody tr th {\n",
       "        vertical-align: top;\n",
       "    }\n",
       "\n",
       "    .dataframe thead th {\n",
       "        text-align: right;\n",
       "    }\n",
       "</style>\n",
       "<table border=\"1\" class=\"dataframe\">\n",
       "  <thead>\n",
       "    <tr style=\"text-align: right;\">\n",
       "      <th></th>\n",
       "      <th>Transaction date</th>\n",
       "      <th>House Age</th>\n",
       "      <th>Distance from nearest Metro station (km)</th>\n",
       "      <th>Number of convenience stores</th>\n",
       "      <th>latitude</th>\n",
       "      <th>longitude</th>\n",
       "      <th>Number of bedrooms</th>\n",
       "      <th>House size (sqft)</th>\n",
       "      <th>House price of unit area</th>\n",
       "    </tr>\n",
       "  </thead>\n",
       "  <tbody>\n",
       "    <tr>\n",
       "      <th>0</th>\n",
       "      <td>2012.916667</td>\n",
       "      <td>32.0</td>\n",
       "      <td>84.87882</td>\n",
       "      <td>10</td>\n",
       "      <td>24.98298</td>\n",
       "      <td>121.54024</td>\n",
       "      <td>1</td>\n",
       "      <td>575</td>\n",
       "      <td>37.9</td>\n",
       "    </tr>\n",
       "    <tr>\n",
       "      <th>1</th>\n",
       "      <td>2012.916667</td>\n",
       "      <td>19.5</td>\n",
       "      <td>306.59470</td>\n",
       "      <td>9</td>\n",
       "      <td>24.98034</td>\n",
       "      <td>121.53951</td>\n",
       "      <td>2</td>\n",
       "      <td>1240</td>\n",
       "      <td>42.2</td>\n",
       "    </tr>\n",
       "    <tr>\n",
       "      <th>2</th>\n",
       "      <td>2013.583333</td>\n",
       "      <td>13.3</td>\n",
       "      <td>561.98450</td>\n",
       "      <td>5</td>\n",
       "      <td>24.98746</td>\n",
       "      <td>121.54391</td>\n",
       "      <td>3</td>\n",
       "      <td>1060</td>\n",
       "      <td>47.3</td>\n",
       "    </tr>\n",
       "    <tr>\n",
       "      <th>3</th>\n",
       "      <td>2013.500000</td>\n",
       "      <td>13.3</td>\n",
       "      <td>561.98450</td>\n",
       "      <td>5</td>\n",
       "      <td>24.98746</td>\n",
       "      <td>121.54391</td>\n",
       "      <td>2</td>\n",
       "      <td>875</td>\n",
       "      <td>54.8</td>\n",
       "    </tr>\n",
       "    <tr>\n",
       "      <th>4</th>\n",
       "      <td>2012.833333</td>\n",
       "      <td>5.0</td>\n",
       "      <td>390.56840</td>\n",
       "      <td>5</td>\n",
       "      <td>24.97937</td>\n",
       "      <td>121.54245</td>\n",
       "      <td>1</td>\n",
       "      <td>491</td>\n",
       "      <td>43.1</td>\n",
       "    </tr>\n",
       "    <tr>\n",
       "      <th>...</th>\n",
       "      <td>...</td>\n",
       "      <td>...</td>\n",
       "      <td>...</td>\n",
       "      <td>...</td>\n",
       "      <td>...</td>\n",
       "      <td>...</td>\n",
       "      <td>...</td>\n",
       "      <td>...</td>\n",
       "      <td>...</td>\n",
       "    </tr>\n",
       "    <tr>\n",
       "      <th>409</th>\n",
       "      <td>2013.000000</td>\n",
       "      <td>13.7</td>\n",
       "      <td>4082.01500</td>\n",
       "      <td>0</td>\n",
       "      <td>24.94155</td>\n",
       "      <td>121.50381</td>\n",
       "      <td>3</td>\n",
       "      <td>803</td>\n",
       "      <td>15.4</td>\n",
       "    </tr>\n",
       "    <tr>\n",
       "      <th>410</th>\n",
       "      <td>2012.666667</td>\n",
       "      <td>5.6</td>\n",
       "      <td>90.45606</td>\n",
       "      <td>9</td>\n",
       "      <td>24.97433</td>\n",
       "      <td>121.54310</td>\n",
       "      <td>2</td>\n",
       "      <td>1278</td>\n",
       "      <td>50.0</td>\n",
       "    </tr>\n",
       "    <tr>\n",
       "      <th>411</th>\n",
       "      <td>2013.250000</td>\n",
       "      <td>18.8</td>\n",
       "      <td>390.96960</td>\n",
       "      <td>7</td>\n",
       "      <td>24.97923</td>\n",
       "      <td>121.53986</td>\n",
       "      <td>1</td>\n",
       "      <td>503</td>\n",
       "      <td>40.6</td>\n",
       "    </tr>\n",
       "    <tr>\n",
       "      <th>412</th>\n",
       "      <td>2013.000000</td>\n",
       "      <td>8.1</td>\n",
       "      <td>104.81010</td>\n",
       "      <td>5</td>\n",
       "      <td>24.96674</td>\n",
       "      <td>121.54067</td>\n",
       "      <td>1</td>\n",
       "      <td>597</td>\n",
       "      <td>52.5</td>\n",
       "    </tr>\n",
       "    <tr>\n",
       "      <th>413</th>\n",
       "      <td>2013.500000</td>\n",
       "      <td>6.5</td>\n",
       "      <td>90.45606</td>\n",
       "      <td>9</td>\n",
       "      <td>24.97433</td>\n",
       "      <td>121.54310</td>\n",
       "      <td>2</td>\n",
       "      <td>1097</td>\n",
       "      <td>63.9</td>\n",
       "    </tr>\n",
       "  </tbody>\n",
       "</table>\n",
       "<p>414 rows × 9 columns</p>\n",
       "</div>"
      ],
      "text/plain": [
       "     Transaction date  House Age  Distance from nearest Metro station (km)  \\\n",
       "0         2012.916667       32.0                                  84.87882   \n",
       "1         2012.916667       19.5                                 306.59470   \n",
       "2         2013.583333       13.3                                 561.98450   \n",
       "3         2013.500000       13.3                                 561.98450   \n",
       "4         2012.833333        5.0                                 390.56840   \n",
       "..                ...        ...                                       ...   \n",
       "409       2013.000000       13.7                                4082.01500   \n",
       "410       2012.666667        5.6                                  90.45606   \n",
       "411       2013.250000       18.8                                 390.96960   \n",
       "412       2013.000000        8.1                                 104.81010   \n",
       "413       2013.500000        6.5                                  90.45606   \n",
       "\n",
       "     Number of convenience stores  latitude  longitude  Number of bedrooms  \\\n",
       "0                              10  24.98298  121.54024                   1   \n",
       "1                               9  24.98034  121.53951                   2   \n",
       "2                               5  24.98746  121.54391                   3   \n",
       "3                               5  24.98746  121.54391                   2   \n",
       "4                               5  24.97937  121.54245                   1   \n",
       "..                            ...       ...        ...                 ...   \n",
       "409                             0  24.94155  121.50381                   3   \n",
       "410                             9  24.97433  121.54310                   2   \n",
       "411                             7  24.97923  121.53986                   1   \n",
       "412                             5  24.96674  121.54067                   1   \n",
       "413                             9  24.97433  121.54310                   2   \n",
       "\n",
       "     House size (sqft)  House price of unit area  \n",
       "0                  575                      37.9  \n",
       "1                 1240                      42.2  \n",
       "2                 1060                      47.3  \n",
       "3                  875                      54.8  \n",
       "4                  491                      43.1  \n",
       "..                 ...                       ...  \n",
       "409                803                      15.4  \n",
       "410               1278                      50.0  \n",
       "411                503                      40.6  \n",
       "412                597                      52.5  \n",
       "413               1097                      63.9  \n",
       "\n",
       "[414 rows x 9 columns]"
      ]
     },
     "execution_count": 2,
     "metadata": {},
     "output_type": "execute_result"
    }
   ],
   "source": [
    "df=pd.read_excel(\"DS - Assignment Part 1 data set.xlsx\")\n",
    "df"
   ]
  },
  {
   "cell_type": "code",
   "execution_count": 3,
   "id": "af4b8f80",
   "metadata": {},
   "outputs": [
    {
     "name": "stdout",
     "output_type": "stream",
     "text": [
      "<class 'pandas.core.frame.DataFrame'>\n",
      "RangeIndex: 414 entries, 0 to 413\n",
      "Data columns (total 9 columns):\n",
      " #   Column                                    Non-Null Count  Dtype  \n",
      "---  ------                                    --------------  -----  \n",
      " 0   Transaction date                          414 non-null    float64\n",
      " 1   House Age                                 414 non-null    float64\n",
      " 2   Distance from nearest Metro station (km)  414 non-null    float64\n",
      " 3   Number of convenience stores              414 non-null    int64  \n",
      " 4   latitude                                  414 non-null    float64\n",
      " 5   longitude                                 414 non-null    float64\n",
      " 6   Number of bedrooms                        414 non-null    int64  \n",
      " 7   House size (sqft)                         414 non-null    int64  \n",
      " 8   House price of unit area                  414 non-null    float64\n",
      "dtypes: float64(6), int64(3)\n",
      "memory usage: 29.2 KB\n"
     ]
    }
   ],
   "source": [
    "df.info()"
   ]
  },
  {
   "cell_type": "markdown",
   "id": "47b0c115",
   "metadata": {},
   "source": [
    "# EDA & Feature Engineering"
   ]
  },
  {
   "cell_type": "markdown",
   "id": "ec55c7b7",
   "metadata": {},
   "source": [
    "# df[\"Transaction date\"]"
   ]
  },
  {
   "cell_type": "code",
   "execution_count": 4,
   "id": "ec0c4159",
   "metadata": {},
   "outputs": [
    {
     "data": {
      "text/plain": [
       "array([2012.9166667, 2013.5833333, 2013.5      , 2012.8333333,\n",
       "       2012.6666667, 2013.4166667, 2013.0833333, 2013.3333333,\n",
       "       2013.25     , 2012.75     , 2013.       , 2013.1666667])"
      ]
     },
     "execution_count": 4,
     "metadata": {},
     "output_type": "execute_result"
    }
   ],
   "source": [
    "df[\"Transaction date\"].unique()"
   ]
  },
  {
   "cell_type": "code",
   "execution_count": 5,
   "id": "bcdc9217",
   "metadata": {},
   "outputs": [
    {
     "data": {
      "text/plain": [
       "12"
      ]
     },
     "execution_count": 5,
     "metadata": {},
     "output_type": "execute_result"
    }
   ],
   "source": [
    "df[\"Transaction date\"].nunique()"
   ]
  },
  {
   "cell_type": "code",
   "execution_count": 6,
   "id": "606ae6d4",
   "metadata": {},
   "outputs": [
    {
     "data": {
      "application/javascript": [
       "\n",
       "        if (window._pyforest_update_imports_cell) { window._pyforest_update_imports_cell('import seaborn as sns'); }\n",
       "    "
      ],
      "text/plain": [
       "<IPython.core.display.Javascript object>"
      ]
     },
     "metadata": {},
     "output_type": "display_data"
    },
    {
     "data": {
      "text/plain": [
       "<AxesSubplot:xlabel='Transaction date'>"
      ]
     },
     "execution_count": 6,
     "metadata": {},
     "output_type": "execute_result"
    },
    {
     "data": {
      "image/png": "[encoded data removed]",
      "text/plain": [
       "<Figure size 432x288 with 1 Axes>"
      ]
     },
     "metadata": {
      "needs_background": "light"
     },
     "output_type": "display_data"
    }
   ],
   "source": [
    "sns.boxplot(df[\"Transaction date\"]) # there is no outliers"
   ]
  },
  {
   "cell_type": "code",
   "execution_count": 7,
   "id": "ef55fd61",
   "metadata": {},
   "outputs": [
    {
     "data": {
      "application/javascript": [
       "\n",
       "        if (window._pyforest_update_imports_cell) { window._pyforest_update_imports_cell('import seaborn as sns'); }\n",
       "    "
      ],
      "text/plain": [
       "<IPython.core.display.Javascript object>"
      ]
     },
     "metadata": {},
     "output_type": "display_data"
    },
    {
     "data": {
      "text/plain": [
       "<AxesSubplot:xlabel='Transaction date', ylabel='Density'>"
      ]
     },
     "execution_count": 7,
     "metadata": {},
     "output_type": "execute_result"
    },
    {
     "data": {
      "image/png": "[encoded data removed]",
      "text/plain": [
       "<Figure size 432x288 with 1 Axes>"
      ]
     },
     "metadata": {
      "needs_background": "light"
     },
     "output_type": "display_data"
    }
   ],
   "source": [
    "sns.kdeplot(df[\"Transaction date\"])"
   ]
  },
  {
   "cell_type": "markdown",
   "id": "16a207ec",
   "metadata": {},
   "source": [
    "# df['House Age']"
   ]
  },
  {
   "cell_type": "code",
   "execution_count": 8,
   "id": "00310ec7",
   "metadata": {},
   "outputs": [
    {
     "data": {
      "text/plain": [
       "236"
      ]
     },
     "execution_count": 8,
     "metadata": {},
     "output_type": "execute_result"
    }
   ],
   "source": [
    "df['House Age'].nunique()"
   ]
  },
  {
   "cell_type": "code",
   "execution_count": 9,
   "id": "83bd0c0d",
   "metadata": {},
   "outputs": [
    {
     "data": {
      "application/javascript": [
       "\n",
       "        if (window._pyforest_update_imports_cell) { window._pyforest_update_imports_cell('import seaborn as sns'); }\n",
       "    "
      ],
      "text/plain": [
       "<IPython.core.display.Javascript object>"
      ]
     },
     "metadata": {},
     "output_type": "display_data"
    },
    {
     "data": {
      "text/plain": [
       "<AxesSubplot:xlabel='House Age'>"
      ]
     },
     "execution_count": 9,
     "metadata": {},
     "output_type": "execute_result"
    },
    {
     "data": {
      "image/png": "[encoded data removed]",
      "text/plain": [
       "<Figure size 432x288 with 1 Axes>"
      ]
     },
     "metadata": {
      "needs_background": "light"
     },
     "output_type": "display_data"
    }
   ],
   "source": [
    "sns.boxplot(df['House Age']) # there is mo ouliers in this feature"
   ]
  },
  {
   "cell_type": "code",
   "execution_count": 10,
   "id": "d212a886",
   "metadata": {},
   "outputs": [
    {
     "data": {
      "application/javascript": [
       "\n",
       "        if (window._pyforest_update_imports_cell) { window._pyforest_update_imports_cell('import seaborn as sns'); }\n",
       "    "
      ],
      "text/plain": [
       "<IPython.core.display.Javascript object>"
      ]
     },
     "metadata": {},
     "output_type": "display_data"
    },
    {
     "data": {
      "text/plain": [
       "<AxesSubplot:xlabel='House Age', ylabel='Count'>"
      ]
     },
     "execution_count": 10,
     "metadata": {},
     "output_type": "execute_result"
    },
    {
     "data": {
      "image/png": "[encoded data removed]",
      "text/plain": [
       "<Figure size 432x288 with 1 Axes>"
      ]
     },
     "metadata": {
      "needs_background": "light"
     },
     "output_type": "display_data"
    }
   ],
   "source": [
    "sns.histplot(df['House Age'],bins=20)  # most of the hosuse age is in the range of  10-20 "
   ]
  },
  {
   "cell_type": "markdown",
   "id": "902299fe",
   "metadata": {},
   "source": [
    "# df['Distance from nearest Metro station (km)']"
   ]
  },
  {
   "cell_type": "code",
   "execution_count": 11,
   "id": "1e28f5ea",
   "metadata": {},
   "outputs": [
    {
     "data": {
      "text/plain": [
       "259"
      ]
     },
     "execution_count": 11,
     "metadata": {},
     "output_type": "execute_result"
    }
   ],
   "source": [
    "df['Distance from nearest Metro station (km)'].nunique()"
   ]
  },
  {
   "cell_type": "code",
   "execution_count": 12,
   "id": "3d24138e",
   "metadata": {},
   "outputs": [
    {
     "data": {
      "application/javascript": [
       "\n",
       "        if (window._pyforest_update_imports_cell) { window._pyforest_update_imports_cell('import seaborn as sns'); }\n",
       "    "
      ],
      "text/plain": [
       "<IPython.core.display.Javascript object>"
      ]
     },
     "metadata": {},
     "output_type": "display_data"
    },
    {
     "data": {
      "text/plain": [
       "<AxesSubplot:xlabel='Distance from nearest Metro station (km)'>"
      ]
     },
     "execution_count": 12,
     "metadata": {},
     "output_type": "execute_result"
    },
    {
     "data": {
      "image/png": "[encoded data removed]",
      "text/plain": [
       "<Figure size 432x288 with 1 Axes>"
      ]
     },
     "metadata": {
      "needs_background": "light"
     },
     "output_type": "display_data"
    }
   ],
   "source": [
    "sns.boxplot(df['Distance from nearest Metro station (km)'])   # this feature has outliers"
   ]
  },
  {
   "cell_type": "code",
   "execution_count": 13,
   "id": "f95ae545",
   "metadata": {},
   "outputs": [
    {
     "data": {
      "application/javascript": [
       "\n",
       "        if (window._pyforest_update_imports_cell) { window._pyforest_update_imports_cell('import seaborn as sns'); }\n",
       "    "
      ],
      "text/plain": [
       "<IPython.core.display.Javascript object>"
      ]
     },
     "metadata": {},
     "output_type": "display_data"
    },
    {
     "data": {
      "text/plain": [
       "<AxesSubplot:xlabel='Distance from nearest Metro station (km)', ylabel='Density'>"
      ]
     },
     "execution_count": 13,
     "metadata": {},
     "output_type": "execute_result"
    },
    {
     "data": {
      "image/png": "[encoded data removed]",
      "text/plain": [
       "<Figure size 432x288 with 1 Axes>"
      ]
     },
     "metadata": {
      "needs_background": "light"
     },
     "output_type": "display_data"
    }
   ],
   "source": [
    "sns.distplot(df['Distance from nearest Metro station (km)'])"
   ]
  },
  {
   "cell_type": "code",
   "execution_count": 14,
   "id": "a893fc3b",
   "metadata": {},
   "outputs": [],
   "source": [
    "# Handling the outliers by using IQR method"
   ]
  },
  {
   "cell_type": "code",
   "execution_count": 15,
   "id": "67205133",
   "metadata": {},
   "outputs": [
    {
     "name": "stdout",
     "output_type": "stream",
     "text": [
      "upper_tail 3201.7103\n",
      "lower_tail -1458.1065000000003\n"
     ]
    }
   ],
   "source": [
    "q1=df['Distance from nearest Metro station (km)'].quantile(0.25)\n",
    "q3=df['Distance from nearest Metro station (km)'].quantile(0.75)\n",
    "iqr=q3-q1\n",
    "\n",
    "upper_tail=q3+1.5*iqr\n",
    "lower_tail=q1-1.5*iqr\n",
    "print(\"upper_tail\",upper_tail)\n",
    "print(\"lower_tail\",lower_tail)"
   ]
  },
  {
   "cell_type": "code",
   "execution_count": 16,
   "id": "00d76b82",
   "metadata": {},
   "outputs": [
    {
     "data": {
      "text/plain": [
       "84.87882"
      ]
     },
     "execution_count": 16,
     "metadata": {},
     "output_type": "execute_result"
    }
   ],
   "source": [
    "a=84.87882\n",
    "def handling_outliers(a):\n",
    "    if a<=upper_tail:\n",
    "        return a\n",
    "    else:\n",
    "        return upper_tail\n",
    "handling_outliers(a)"
   ]
  },
  {
   "cell_type": "code",
   "execution_count": 17,
   "id": "2c2053c5",
   "metadata": {},
   "outputs": [],
   "source": [
    "df['Distance from nearest Metro station (km)']=df['Distance from nearest Metro station (km)'].apply(handling_outliers)"
   ]
  },
  {
   "cell_type": "code",
   "execution_count": 18,
   "id": "f79402cd",
   "metadata": {},
   "outputs": [
    {
     "data": {
      "application/javascript": [
       "\n",
       "        if (window._pyforest_update_imports_cell) { window._pyforest_update_imports_cell('import seaborn as sns'); }\n",
       "    "
      ],
      "text/plain": [
       "<IPython.core.display.Javascript object>"
      ]
     },
     "metadata": {},
     "output_type": "display_data"
    },
    {
     "data": {
      "text/plain": [
       "<AxesSubplot:xlabel='Distance from nearest Metro station (km)'>"
      ]
     },
     "execution_count": 18,
     "metadata": {},
     "output_type": "execute_result"
    },
    {
     "data": {
      "image/png": "[encoded data removed]",
      "text/plain": [
       "<Figure size 432x288 with 1 Axes>"
      ]
     },
     "metadata": {
      "needs_background": "light"
     },
     "output_type": "display_data"
    }
   ],
   "source": [
    "sns.boxplot(df['Distance from nearest Metro station (km)'])"
   ]
  },
  {
   "cell_type": "markdown",
   "id": "abf3ae5a",
   "metadata": {},
   "source": [
    "# df[\"Number of convenience stores\"]"
   ]
  },
  {
   "cell_type": "code",
   "execution_count": 19,
   "id": "01385dc0",
   "metadata": {},
   "outputs": [
    {
     "data": {
      "text/plain": [
       "11"
      ]
     },
     "execution_count": 19,
     "metadata": {},
     "output_type": "execute_result"
    }
   ],
   "source": [
    "df[\"Number of convenience stores\"].nunique()"
   ]
  },
  {
   "cell_type": "code",
   "execution_count": 20,
   "id": "e0ff31e2",
   "metadata": {},
   "outputs": [
    {
     "data": {
      "application/javascript": [
       "\n",
       "        if (window._pyforest_update_imports_cell) { window._pyforest_update_imports_cell('import seaborn as sns'); }\n",
       "    "
      ],
      "text/plain": [
       "<IPython.core.display.Javascript object>"
      ]
     },
     "metadata": {},
     "output_type": "display_data"
    },
    {
     "data": {
      "text/plain": [
       "<AxesSubplot:xlabel='Number of convenience stores', ylabel='count'>"
      ]
     },
     "execution_count": 20,
     "metadata": {},
     "output_type": "execute_result"
    },
    {
     "data": {
      "image/png": "[encoded data removed]",
      "text/plain": [
       "<Figure size 432x288 with 1 Axes>"
      ]
     },
     "metadata": {
      "needs_background": "light"
     },
     "output_type": "display_data"
    }
   ],
   "source": [
    "sns.countplot(df[\"Number of convenience stores\"])"
   ]
  },
  {
   "cell_type": "code",
   "execution_count": 21,
   "id": "66af7267",
   "metadata": {},
   "outputs": [
    {
     "data": {
      "application/javascript": [
       "\n",
       "        if (window._pyforest_update_imports_cell) { window._pyforest_update_imports_cell('import seaborn as sns'); }\n",
       "    "
      ],
      "text/plain": [
       "<IPython.core.display.Javascript object>"
      ]
     },
     "metadata": {},
     "output_type": "display_data"
    },
    {
     "data": {
      "text/plain": [
       "<AxesSubplot:xlabel='Number of convenience stores'>"
      ]
     },
     "execution_count": 21,
     "metadata": {},
     "output_type": "execute_result"
    },
    {
     "data": {
      "image/png": "[encoded data removed]",
      "text/plain": [
       "<Figure size 432x288 with 1 Axes>"
      ]
     },
     "metadata": {
      "needs_background": "light"
     },
     "output_type": "display_data"
    }
   ],
   "source": [
    "sns.boxplot(df[\"Number of convenience stores\"])"
   ]
  },
  {
   "cell_type": "markdown",
   "id": "d16c0633",
   "metadata": {},
   "source": [
    "# df[\"latitude\"]"
   ]
  },
  {
   "cell_type": "code",
   "execution_count": 22,
   "id": "7995c37f",
   "metadata": {},
   "outputs": [
    {
     "data": {
      "text/plain": [
       "234"
      ]
     },
     "execution_count": 22,
     "metadata": {},
     "output_type": "execute_result"
    }
   ],
   "source": [
    "df[\"latitude\"].nunique()"
   ]
  },
  {
   "cell_type": "code",
   "execution_count": 23,
   "id": "5f4d3720",
   "metadata": {},
   "outputs": [
    {
     "data": {
      "application/javascript": [
       "\n",
       "        if (window._pyforest_update_imports_cell) { window._pyforest_update_imports_cell('import seaborn as sns'); }\n",
       "    "
      ],
      "text/plain": [
       "<IPython.core.display.Javascript object>"
      ]
     },
     "metadata": {},
     "output_type": "display_data"
    },
    {
     "data": {
      "text/plain": [
       "<AxesSubplot:xlabel='latitude'>"
      ]
     },
     "execution_count": 23,
     "metadata": {},
     "output_type": "execute_result"
    },
    {
     "data": {
      "image/png": "[encoded data removed]",
      "text/plain": [
       "<Figure size 432x288 with 1 Axes>"
      ]
     },
     "metadata": {
      "needs_background": "light"
     },
     "output_type": "display_data"
    }
   ],
   "source": [
    "sns.boxplot(df[\"latitude\"])"
   ]
  },
  {
   "cell_type": "code",
   "execution_count": 24,
   "id": "1f738b19",
   "metadata": {},
   "outputs": [
    {
     "name": "stdout",
     "output_type": "stream",
     "text": [
      "upper_tail 24.999137499999996\n",
      "lower_tail 24.941317500000004\n"
     ]
    }
   ],
   "source": [
    "q1=df[\"latitude\"].quantile(0.25)\n",
    "q3=df[\"latitude\"].quantile(0.75)\n",
    "iqr=q3-q1\n",
    "\n",
    "upper_tail=q3+1.5*iqr\n",
    "lower_tail=q1-1.5*iqr\n",
    "print(\"upper_tail\",upper_tail)\n",
    "print(\"lower_tail\",lower_tail)"
   ]
  },
  {
   "cell_type": "code",
   "execution_count": 25,
   "id": "3d8532b4",
   "metadata": {},
   "outputs": [
    {
     "data": {
      "text/plain": [
       "24.98298"
      ]
     },
     "execution_count": 25,
     "metadata": {},
     "output_type": "execute_result"
    }
   ],
   "source": [
    "a=24.98298\n",
    "def hand_out(a):\n",
    "    if a<=lower_tail:\n",
    "        return lower_tail\n",
    "    elif a<=upper_tail:\n",
    "        return a\n",
    "    else:\n",
    "        return upper_tail\n",
    "hand_out(a)"
   ]
  },
  {
   "cell_type": "code",
   "execution_count": 26,
   "id": "bc5622d4",
   "metadata": {},
   "outputs": [],
   "source": [
    "df[\"latitude\"]=df[\"latitude\"].apply(hand_out)"
   ]
  },
  {
   "cell_type": "code",
   "execution_count": 27,
   "id": "ea28e07d",
   "metadata": {},
   "outputs": [
    {
     "data": {
      "application/javascript": [
       "\n",
       "        if (window._pyforest_update_imports_cell) { window._pyforest_update_imports_cell('import seaborn as sns'); }\n",
       "    "
      ],
      "text/plain": [
       "<IPython.core.display.Javascript object>"
      ]
     },
     "metadata": {},
     "output_type": "display_data"
    },
    {
     "data": {
      "text/plain": [
       "<AxesSubplot:xlabel='latitude'>"
      ]
     },
     "execution_count": 27,
     "metadata": {},
     "output_type": "execute_result"
    },
    {
     "data": {
      "image/png": "[encoded data removed]",
      "text/plain": [
       "<Figure size 432x288 with 1 Axes>"
      ]
     },
     "metadata": {
      "needs_background": "light"
     },
     "output_type": "display_data"
    }
   ],
   "source": [
    "sns.boxplot(df[\"latitude\"])"
   ]
  },
  {
   "cell_type": "markdown",
   "id": "cbd35d9a",
   "metadata": {},
   "source": [
    "# df['longitude']"
   ]
  },
  {
   "cell_type": "code",
   "execution_count": 28,
   "id": "e4e2da8c",
   "metadata": {},
   "outputs": [
    {
     "data": {
      "text/plain": [
       "232"
      ]
     },
     "execution_count": 28,
     "metadata": {},
     "output_type": "execute_result"
    }
   ],
   "source": [
    "df['longitude'].nunique()"
   ]
  },
  {
   "cell_type": "code",
   "execution_count": 29,
   "id": "a25c843a",
   "metadata": {},
   "outputs": [
    {
     "data": {
      "application/javascript": [
       "\n",
       "        if (window._pyforest_update_imports_cell) { window._pyforest_update_imports_cell('import seaborn as sns'); }\n",
       "    "
      ],
      "text/plain": [
       "<IPython.core.display.Javascript object>"
      ]
     },
     "metadata": {},
     "output_type": "display_data"
    },
    {
     "data": {
      "text/plain": [
       "<AxesSubplot:xlabel='latitude'>"
      ]
     },
     "execution_count": 29,
     "metadata": {},
     "output_type": "execute_result"
    },
    {
     "data": {
      "image/png": "[encoded data removed]",
      "text/plain": [
       "<Figure size 432x288 with 1 Axes>"
      ]
     },
     "metadata": {
      "needs_background": "light"
     },
     "output_type": "display_data"
    }
   ],
   "source": [
    "sns.boxplot(df[\"latitude\"])"
   ]
  },
  {
   "cell_type": "markdown",
   "id": "38d8ff94",
   "metadata": {},
   "source": [
    "# df['Number of bedrooms']"
   ]
  },
  {
   "cell_type": "code",
   "execution_count": 30,
   "id": "8633ecb1",
   "metadata": {},
   "outputs": [
    {
     "data": {
      "text/plain": [
       "3"
      ]
     },
     "execution_count": 30,
     "metadata": {},
     "output_type": "execute_result"
    }
   ],
   "source": [
    "df['Number of bedrooms'].nunique()"
   ]
  },
  {
   "cell_type": "code",
   "execution_count": 31,
   "id": "dc69a369",
   "metadata": {
    "scrolled": true
   },
   "outputs": [
    {
     "data": {
      "application/javascript": [
       "\n",
       "        if (window._pyforest_update_imports_cell) { window._pyforest_update_imports_cell('import seaborn as sns'); }\n",
       "    "
      ],
      "text/plain": [
       "<IPython.core.display.Javascript object>"
      ]
     },
     "metadata": {},
     "output_type": "display_data"
    },
    {
     "data": {
      "text/plain": [
       "<AxesSubplot:xlabel='Number of bedrooms', ylabel='House price of unit area'>"
      ]
     },
     "execution_count": 31,
     "metadata": {},
     "output_type": "execute_result"
    },
    {
     "data": {
      "image/png": "[encoded data removed]",
      "text/plain": [
       "<Figure size 432x288 with 1 Axes>"
      ]
     },
     "metadata": {
      "needs_background": "light"
     },
     "output_type": "display_data"
    }
   ],
   "source": [
    "sns.barplot(x=df['Number of bedrooms'],y=df[\"House price of unit area\"])"
   ]
  },
  {
   "cell_type": "code",
   "execution_count": 32,
   "id": "91220054",
   "metadata": {},
   "outputs": [
    {
     "data": {
      "application/javascript": [
       "\n",
       "        if (window._pyforest_update_imports_cell) { window._pyforest_update_imports_cell('import seaborn as sns'); }\n",
       "    "
      ],
      "text/plain": [
       "<IPython.core.display.Javascript object>"
      ]
     },
     "metadata": {},
     "output_type": "display_data"
    },
    {
     "data": {
      "text/plain": [
       "<AxesSubplot:xlabel='Number of bedrooms', ylabel='Density'>"
      ]
     },
     "execution_count": 32,
     "metadata": {},
     "output_type": "execute_result"
    },
    {
     "data": {
      "image/png": "[encoded data removed]",
      "text/plain": [
       "<Figure size 432x288 with 1 Axes>"
      ]
     },
     "metadata": {
      "needs_background": "light"
     },
     "output_type": "display_data"
    }
   ],
   "source": [
    "sns.distplot(df['Number of bedrooms'])"
   ]
  },
  {
   "cell_type": "code",
   "execution_count": 33,
   "id": "2eda7c50",
   "metadata": {},
   "outputs": [
    {
     "data": {
      "text/plain": [
       "Index(['Transaction date', 'House Age',\n",
       "       'Distance from nearest Metro station (km)',\n",
       "       'Number of convenience stores', 'latitude', 'longitude',\n",
       "       'Number of bedrooms', 'House size (sqft)', 'House price of unit area'],\n",
       "      dtype='object')"
      ]
     },
     "execution_count": 33,
     "metadata": {},
     "output_type": "execute_result"
    }
   ],
   "source": [
    "df.columns"
   ]
  },
  {
   "cell_type": "markdown",
   "id": "39441242",
   "metadata": {},
   "source": [
    "# df['House size (sqft)']"
   ]
  },
  {
   "cell_type": "code",
   "execution_count": 34,
   "id": "118b20a6",
   "metadata": {},
   "outputs": [
    {
     "data": {
      "text/plain": [
       "328"
      ]
     },
     "execution_count": 34,
     "metadata": {},
     "output_type": "execute_result"
    }
   ],
   "source": [
    "df['House size (sqft)'].nunique()"
   ]
  },
  {
   "cell_type": "code",
   "execution_count": 35,
   "id": "75046676",
   "metadata": {},
   "outputs": [
    {
     "data": {
      "application/javascript": [
       "\n",
       "        if (window._pyforest_update_imports_cell) { window._pyforest_update_imports_cell('import seaborn as sns'); }\n",
       "    "
      ],
      "text/plain": [
       "<IPython.core.display.Javascript object>"
      ]
     },
     "metadata": {},
     "output_type": "display_data"
    },
    {
     "data": {
      "text/plain": [
       "<AxesSubplot:xlabel='House size (sqft)'>"
      ]
     },
     "execution_count": 35,
     "metadata": {},
     "output_type": "execute_result"
    },
    {
     "data": {
      "image/png": "[encoded data removed]",
      "text/plain": [
       "<Figure size 432x288 with 1 Axes>"
      ]
     },
     "metadata": {
      "needs_background": "light"
     },
     "output_type": "display_data"
    }
   ],
   "source": [
    "sns.boxplot(df['House size (sqft)'],palette='viridis')"
   ]
  },
  {
   "cell_type": "markdown",
   "id": "a1207283",
   "metadata": {},
   "source": [
    "# df['House price of unit area']"
   ]
  },
  {
   "cell_type": "code",
   "execution_count": 36,
   "id": "a292561b",
   "metadata": {},
   "outputs": [
    {
     "data": {
      "text/plain": [
       "270"
      ]
     },
     "execution_count": 36,
     "metadata": {},
     "output_type": "execute_result"
    }
   ],
   "source": [
    "df['House price of unit area'].nunique()"
   ]
  },
  {
   "cell_type": "code",
   "execution_count": 37,
   "id": "148d0f51",
   "metadata": {},
   "outputs": [
    {
     "data": {
      "application/javascript": [
       "\n",
       "        if (window._pyforest_update_imports_cell) { window._pyforest_update_imports_cell('import seaborn as sns'); }\n",
       "    "
      ],
      "text/plain": [
       "<IPython.core.display.Javascript object>"
      ]
     },
     "metadata": {},
     "output_type": "display_data"
    },
    {
     "data": {
      "text/plain": [
       "<AxesSubplot:xlabel='House price of unit area'>"
      ]
     },
     "execution_count": 37,
     "metadata": {},
     "output_type": "execute_result"
    },
    {
     "data": {
      "image/png": "[encoded data removed]",
      "text/plain": [
       "<Figure size 432x288 with 1 Axes>"
      ]
     },
     "metadata": {
      "needs_background": "light"
     },
     "output_type": "display_data"
    }
   ],
   "source": [
    "sns.boxplot(df['House price of unit area'])"
   ]
  },
  {
   "cell_type": "markdown",
   "id": "cdaa8743",
   "metadata": {},
   "source": [
    "# Feature Selection"
   ]
  },
  {
   "cell_type": "code",
   "execution_count": 39,
   "id": "9788018d",
   "metadata": {},
   "outputs": [
    {
     "data": {
      "application/javascript": [
       "\n",
       "        if (window._pyforest_update_imports_cell) { window._pyforest_update_imports_cell('import seaborn as sns'); }\n",
       "    "
      ],
      "text/plain": [
       "<IPython.core.display.Javascript object>"
      ]
     },
     "metadata": {},
     "output_type": "display_data"
    },
    {
     "data": {
      "text/plain": [
       "<AxesSubplot:>"
      ]
     },
     "execution_count": 39,
     "metadata": {},
     "output_type": "execute_result"
    },
    {
     "data": {
      "image/png": "[encoded data removed]",
      "text/plain": [
       "<Figure size 432x288 with 2 Axes>"
      ]
     },
     "metadata": {
      "needs_background": "light"
     },
     "output_type": "display_data"
    }
   ],
   "source": [
    "sns.heatmap(df.corr(),annot=True)"
   ]
  },
  {
   "cell_type": "markdown",
   "id": "a9d5eb26",
   "metadata": {},
   "source": [
    "# train_test_split"
   ]
  },
  {
   "cell_type": "code",
   "execution_count": 40,
   "id": "1515e5c9",
   "metadata": {},
   "outputs": [],
   "source": [
    "x=df.drop([\"House price of unit area\"],axis=1)\n",
    "y=df[\"House price of unit area\"]"
   ]
  },
  {
   "cell_type": "code",
   "execution_count": 41,
   "id": "6eabe5a7",
   "metadata": {},
   "outputs": [],
   "source": [
    "x_train,x_test,y_train,y_test=train_test_split(x,y,test_size=0.30,random_state=42)"
   ]
  },
  {
   "cell_type": "markdown",
   "id": "e1cabb28",
   "metadata": {},
   "source": [
    "# Model Training"
   ]
  },
  {
   "cell_type": "markdown",
   "id": "7aafccd4",
   "metadata": {},
   "source": [
    "## Linear Regression Model"
   ]
  },
  {
   "cell_type": "code",
   "execution_count": 42,
   "id": "c8afbb0c",
   "metadata": {},
   "outputs": [
    {
     "data": {
      "text/plain": [
       "LinearRegression()"
      ]
     },
     "execution_count": 42,
     "metadata": {},
     "output_type": "execute_result"
    }
   ],
   "source": [
    "Linear_model=LinearRegression()\n",
    "Linear_model.fit(x_train,y_train)"
   ]
  },
  {
   "cell_type": "markdown",
   "id": "aeeaec95",
   "metadata": {},
   "source": [
    "## Model Evaluation"
   ]
  },
  {
   "cell_type": "code",
   "execution_count": 43,
   "id": "d27e6872",
   "metadata": {},
   "outputs": [
    {
     "name": "stdout",
     "output_type": "stream",
     "text": [
      "*************** Testing Data Evalution *****************\n",
      "mean_squared_error \n",
      " 71.65226035825873\n",
      "mean_absolute_error \n",
      " 5.877221167655129\n",
      "r2_score \n",
      " 0.5715221373223489\n",
      "*************** Training Data Evalution *****************\n",
      "mean_squared_error \n",
      " 72.3724056415479\n",
      "mean_absolute_error \n",
      " 5.753688708269569\n",
      "r2_score \n",
      " 0.6221494233119944\n"
     ]
    }
   ],
   "source": [
    "# testing data evaluation\n",
    "print(\"*************** Testing Data Evalution *****************\")\n",
    "y_pred=Linear_model.predict(x_test)\n",
    "mse=mean_squared_error(y_test,y_pred)\n",
    "print(\"mean_squared_error \\n\",mse)\n",
    "mae=mean_absolute_error(y_test,y_pred)\n",
    "print(\"mean_absolute_error \\n\",mae)\n",
    "R2=r2_score(y_test,y_pred)\n",
    "print(\"r2_score \\n\",R2)\n",
    "\n",
    "# training data evaluation\n",
    "print(\"*************** Training Data Evalution *****************\")\n",
    "y_pred_train=Linear_model.predict(x_train)\n",
    "mse=mean_squared_error(y_train,y_pred_train)\n",
    "print(\"mean_squared_error \\n\",mse)\n",
    "mae=mean_absolute_error(y_train,y_pred_train)\n",
    "print(\"mean_absolute_error \\n\",mae)\n",
    "R2=r2_score(y_train,y_pred_train)\n",
    "print(\"r2_score \\n\",R2)"
   ]
  },
  {
   "cell_type": "markdown",
   "id": "5188b7af",
   "metadata": {},
   "source": [
    "# KNN Model"
   ]
  },
  {
   "cell_type": "code",
   "execution_count": 44,
   "id": "c51f94fc",
   "metadata": {},
   "outputs": [
    {
     "data": {
      "text/plain": [
       "KNeighborsRegressor()"
      ]
     },
     "execution_count": 44,
     "metadata": {},
     "output_type": "execute_result"
    }
   ],
   "source": [
    "KNN_model=KNeighborsRegressor()\n",
    "KNN_model.fit(x_train,y_train)"
   ]
  },
  {
   "cell_type": "markdown",
   "id": "7f3f04b9",
   "metadata": {},
   "source": [
    "# model Evaluation"
   ]
  },
  {
   "cell_type": "code",
   "execution_count": 45,
   "id": "e4efa5f0",
   "metadata": {},
   "outputs": [
    {
     "name": "stdout",
     "output_type": "stream",
     "text": [
      "*************** Testing Data Evalution *****************\n",
      "mean_squared_error \n",
      " 71.72293759999998\n",
      "mean_absolute_error \n",
      " 6.27328\n",
      "r2_score \n",
      " 0.5710994900348827\n",
      "*************** Training Data Evalution *****************\n",
      "mean_squared_error \n",
      " 61.97040830449827\n",
      "mean_absolute_error \n",
      " 5.490242214532872\n",
      "r2_score \n",
      " 0.6764574245131445\n"
     ]
    }
   ],
   "source": [
    "# testing data evaluation\n",
    "print(\"*************** Testing Data Evalution *****************\")\n",
    "y_pred=KNN_model.predict(x_test)\n",
    "mse=mean_squared_error(y_test,y_pred)\n",
    "print(\"mean_squared_error \\n\",mse)\n",
    "mae=mean_absolute_error(y_test,y_pred)\n",
    "print(\"mean_absolute_error \\n\",mae)\n",
    "R2=r2_score(y_test,y_pred)\n",
    "print(\"r2_score \\n\",R2)\n",
    "\n",
    "# training data evaluation\n",
    "print(\"*************** Training Data Evalution *****************\")\n",
    "y_pred_train=KNN_model.predict(x_train)\n",
    "mse=mean_squared_error(y_train,y_pred_train)\n",
    "print(\"mean_squared_error \\n\",mse)\n",
    "mae=mean_absolute_error(y_train,y_pred_train)\n",
    "print(\"mean_absolute_error \\n\",mae)\n",
    "R2=r2_score(y_train,y_pred_train)\n",
    "print(\"r2_score \\n\",R2)"
   ]
  },
  {
   "cell_type": "markdown",
   "id": "c4e78e37",
   "metadata": {},
   "source": [
    "# Decesion Tree Model"
   ]
  },
  {
   "cell_type": "code",
   "execution_count": 46,
   "id": "47e73f80",
   "metadata": {},
   "outputs": [
    {
     "data": {
      "text/plain": [
       "DecisionTreeRegressor()"
      ]
     },
     "execution_count": 46,
     "metadata": {},
     "output_type": "execute_result"
    }
   ],
   "source": [
    "Decision_model=DecisionTreeRegressor()\n",
    "Decision_model.fit(x_train,y_train)"
   ]
  },
  {
   "cell_type": "markdown",
   "id": "493f345c",
   "metadata": {},
   "source": [
    "# Model Evaluation"
   ]
  },
  {
   "cell_type": "code",
   "execution_count": 47,
   "id": "ec3df5c4",
   "metadata": {},
   "outputs": [
    {
     "name": "stdout",
     "output_type": "stream",
     "text": [
      "*************** Testing Data Evalution *****************\n",
      "mean_squared_error \n",
      " 86.15048000000002\n",
      "mean_absolute_error \n",
      " 6.315999999999999\n",
      "r2_score \n",
      " 0.48482332093241465\n",
      "*************** Training Data Evalution *****************\n",
      "mean_squared_error \n",
      " 0.0\n",
      "mean_absolute_error \n",
      " 0.0\n",
      "r2_score \n",
      " 1.0\n"
     ]
    }
   ],
   "source": [
    "# testing data evaluation\n",
    "print(\"*************** Testing Data Evalution *****************\")\n",
    "y_pred=Decision_model.predict(x_test)\n",
    "mse=mean_squared_error(y_test,y_pred)\n",
    "print(\"mean_squared_error \\n\",mse)\n",
    "mae=mean_absolute_error(y_test,y_pred)\n",
    "print(\"mean_absolute_error \\n\",mae)\n",
    "R2=r2_score(y_test,y_pred)\n",
    "print(\"r2_score \\n\",R2)\n",
    "\n",
    "# training data evaluation\n",
    "print(\"*************** Training Data Evalution *****************\")\n",
    "y_pred_train=Decision_model.predict(x_train)\n",
    "mse=mean_squared_error(y_train,y_pred_train)\n",
    "print(\"mean_squared_error \\n\",mse)\n",
    "mae=mean_absolute_error(y_train,y_pred_train)\n",
    "print(\"mean_absolute_error \\n\",mae)\n",
    "R2=r2_score(y_train,y_pred_train)\n",
    "print(\"r2_score \\n\",R2)"
   ]
  },
  {
   "cell_type": "markdown",
   "id": "45011f95",
   "metadata": {},
   "source": [
    "# Random Forest Model"
   ]
  },
  {
   "cell_type": "code",
   "execution_count": 48,
   "id": "f6b162b2",
   "metadata": {},
   "outputs": [
    {
     "data": {
      "text/plain": [
       "RandomForestRegressor()"
      ]
     },
     "execution_count": 48,
     "metadata": {},
     "output_type": "execute_result"
    }
   ],
   "source": [
    "Random_model=RandomForestRegressor()\n",
    "Random_model.fit(x_train,y_train)"
   ]
  },
  {
   "cell_type": "markdown",
   "id": "0a7b7a11",
   "metadata": {},
   "source": [
    "# Model Evaluation"
   ]
  },
  {
   "cell_type": "code",
   "execution_count": 49,
   "id": "500019c2",
   "metadata": {},
   "outputs": [
    {
     "name": "stdout",
     "output_type": "stream",
     "text": [
      "*************** Testing Data Evalution *****************\n",
      "mean_squared_error \n",
      " 44.897872551999995\n",
      "mean_absolute_error \n",
      " 4.478423999999997\n",
      "r2_score \n",
      " 0.7315123853222982\n",
      "*************** Training Data Evalution *****************\n",
      "mean_squared_error \n",
      " 7.489780602076137\n",
      "mean_absolute_error \n",
      " 1.881847750865052\n",
      "r2_score \n",
      " 0.9608964508686106\n"
     ]
    }
   ],
   "source": [
    "# testing data evaluation\n",
    "print(\"*************** Testing Data Evalution *****************\")\n",
    "y_pred=Random_model.predict(x_test)\n",
    "mse=mean_squared_error(y_test,y_pred)\n",
    "print(\"mean_squared_error \\n\",mse)\n",
    "mae=mean_absolute_error(y_test,y_pred)\n",
    "print(\"mean_absolute_error \\n\",mae)\n",
    "R2=r2_score(y_test,y_pred)\n",
    "print(\"r2_score \\n\",R2)\n",
    "\n",
    "# training data evaluation\n",
    "print(\"*************** Training Data Evalution *****************\")\n",
    "y_pred_train=Random_model.predict(x_train)\n",
    "mse=mean_squared_error(y_train,y_pred_train)\n",
    "print(\"mean_squared_error \\n\",mse)\n",
    "mae=mean_absolute_error(y_train,y_pred_train)\n",
    "print(\"mean_absolute_error \\n\",mae)\n",
    "R2=r2_score(y_train,y_pred_train)\n",
    "print(\"r2_score \\n\",R2)"
   ]
  },
  {
   "cell_type": "markdown",
   "id": "a7868283",
   "metadata": {},
   "source": [
    "# Adaboost Model"
   ]
  },
  {
   "cell_type": "code",
   "execution_count": 50,
   "id": "d8b19df2",
   "metadata": {},
   "outputs": [
    {
     "data": {
      "text/plain": [
       "AdaBoostRegressor()"
      ]
     },
     "execution_count": 50,
     "metadata": {},
     "output_type": "execute_result"
    }
   ],
   "source": [
    "AdaBoost_model=AdaBoostRegressor()\n",
    "AdaBoost_model.fit(x_train,y_train)"
   ]
  },
  {
   "cell_type": "markdown",
   "id": "3eea970e",
   "metadata": {},
   "source": [
    "# Model Evaluation"
   ]
  },
  {
   "cell_type": "code",
   "execution_count": 51,
   "id": "0eee6686",
   "metadata": {},
   "outputs": [
    {
     "name": "stdout",
     "output_type": "stream",
     "text": [
      "*************** Testing Data Evalution *****************\n",
      "mean_squared_error \n",
      " 52.68887880938931\n",
      "mean_absolute_error \n",
      " 5.342700382068294\n",
      "r2_score \n",
      " 0.6849224565107976\n",
      "*************** Training Data Evalution *****************\n",
      "mean_squared_error \n",
      " 29.194970005457428\n",
      "mean_absolute_error \n",
      " 4.418942103992247\n",
      "r2_score \n",
      " 0.8475753824242345\n"
     ]
    }
   ],
   "source": [
    "# testing data evaluation\n",
    "print(\"*************** Testing Data Evalution *****************\")\n",
    "y_pred=AdaBoost_model.predict(x_test)\n",
    "mse=mean_squared_error(y_test,y_pred)\n",
    "print(\"mean_squared_error \\n\",mse)\n",
    "mae=mean_absolute_error(y_test,y_pred)\n",
    "print(\"mean_absolute_error \\n\",mae)\n",
    "R2=r2_score(y_test,y_pred)\n",
    "print(\"r2_score \\n\",R2)\n",
    "\n",
    "# training data evaluation\n",
    "print(\"*************** Training Data Evalution *****************\")\n",
    "y_pred_train=AdaBoost_model.predict(x_train)\n",
    "mse=mean_squared_error(y_train,y_pred_train)\n",
    "print(\"mean_squared_error \\n\",mse)\n",
    "mae=mean_absolute_error(y_train,y_pred_train)\n",
    "print(\"mean_absolute_error \\n\",mae)\n",
    "R2=r2_score(y_train,y_pred_train)\n",
    "print(\"r2_score \\n\",R2)"
   ]
  },
  {
   "cell_type": "markdown",
   "id": "0d2b570f",
   "metadata": {},
   "source": [
    "###  Adaboost model is selected as final model"
   ]
  }
 ],
 "metadata": {
  "kernelspec": {
   "display_name": "Python 3 (ipykernel)",
   "language": "python",
   "name": "python3"
  },
  "language_info": {
   "codemirror_mode": {
    "name": "ipython",
    "version": 3
   },
   "file_extension": ".py",
   "mimetype": "text/x-python",
   "name": "python",
   "nbconvert_exporter": "python",
   "pygments_lexer": "ipython3",
   "version": "3.8.11"
  }
 },
 "nbformat": 4,
 "nbformat_minor": 5
}
